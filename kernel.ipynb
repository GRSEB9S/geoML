\frac{1}{Nh^{D}}{\textstyle {\textstyle \sum}}_{i=1}^{N}(\frac{d(x,x_{i})}{h})
 
